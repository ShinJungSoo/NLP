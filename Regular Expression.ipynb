{
 "cells": [
  {
   "cell_type": "markdown",
   "metadata": {},
   "source": [
    "정규 표현식 (Regular Expression)\n",
    "===\n",
    "* python에서는 정규 표현식 모듈 re를 지원하므로, 이를 이용하면 특정 규칙이 있는 텍스트 데이터를 빠르게 정제 할 수 있다.\n",
    "\n",
    "> 1. 정규 표현식 문법\n",
    "* 정규 표현식을 위해 사용되는 문법 중 특수문자들은 아래와 같습니다.\n",
    "|내용|설명|\n",
    "|:---|:---|\n",
    "|.|한 개의 임의의 문자를 나타낸다.|\n",
    "|?|앞의 문자가 존재할 수도 있고, 존재하지 않을 수도 있다. (문자가 0개 또는 1개)|\n",
    "|*|앞의 문자가 무한개로 존재할 수도 있고, 존재하지 않을 수도 있다. ( 문자가 0개 이상)|\n",
    "|+|앞의 문자가 최소 한 개 이상 존재 (문자가 1개 이상)|\n",
    "|^|뒤의 문자로 문자열이 시작됩니다.|\n",
    "|$|앞의 문자로 문자열이 끝납니다.|\n",
    "|{숫자}|숫자만큼 반복합니다.|\n",
    "|{숫자1, 숫자2}|숫자1 이상 숫자2 이하만큼 반복합니다. ?, *, +를 이것으로 대체할 수 있습니다.|\n",
    "|{숫자,}\t|숫자 이상만큼 반복합니다.|\n",
    "|[ ]|대괄호 안의 문자들 중 한 개의 문자와 매치합니다. [amk]라고 한다면 a 또는 m 또는 k 중 하나라도 존재하면 매치를 의미합니다. [a-z]와 같이 범위를 지정할 수도 있습니다. [a-zA-Z]는 알파벳 전체를 의미하는 범위이며, 문자열에 알파벳이 존재하면 매치를 의미합니다.|\n",
    "|[^문자]|해당 문자를 제외한 문자를 매치합니다.|\n",
    "|I|AlB와 같이 쓰이며 A 또는 B의 의미를 가집니다.|\n",
    "\n",
    "* 역슬래쉬를 이용하여 자주 쓰이는 문자 규칙\n",
    "\n",
    "|문자 규칙|설명|\n",
    "|:--|:--|\n",
    "|\\|역 슬래쉬 문자 자체를 의미합니다|\n",
    "|\\d|모든 숫자를 의미합니다. [0-9]와 의미가 동일합니다.|\n",
    "|\\D|숫자를 제외한 모든 문자를 의미합니다. [^0-9]와 의미가 동일합니다.|\n",
    "|\\s|공백을 의미합니다. [ \\t\\n\\r\\f\\v]와 의미가 동일합니다.|\n",
    "|\\S|공백을 제외한 문자를 의미합니다. [^ \\t\\n\\r\\f\\v]와 의미가 동일합니다.|\n",
    "|\\w|문자 또는 숫자를 의미합니다. [a-zA-Z0-9]와 의미가 동일합니다.|\n",
    "|\\W| 또는 숫자가 아닌 문자를 의미합니다. [^a-zA-Z0-9]와 의미가 동일합니다.|\n",
    "\n",
    "> 정규 표현식 모듈 함수\n",
    "\n",
    "|문자 규칙|설명|\n",
    "|:---|:---|\n",
    "|re.compile()|정규표현식을 컴파일하는 함수입니다. 다시 말해, 파이썬에게 전해주는 역할을 합니다. 찾고자 하는 패턴이 빈번한 경우에는 미리 컴파일해놓고 사용하면 속도와 편의성면에서 유리합니다.|\n",
    "|re.search()|전체에 대해서 정규표현식과 매치되는지를 검색합니다.|\n",
    "|re.match()|문자열의 처음이 정규표현식과 매치되는지를 검색합니다.|\n",
    "|re.split()|정규 표현식을 기준으로 문자열을 분리하여 리스트로 리턴합니다.|\n",
    "|re.findall()|문자열에서 정규 표현식과 매치되는 모든 경우의 문자열을 찾아서 리스트로 리턴합니다. 만약, 매치되는 문자열이 없다면 빈 리스트가 리턴됩니다.|\n",
    "|re.finditer()|문자열에서 정규 표현식과 매치되는 모든 경우의 문자열에 대한 이터레이터 객체를 리턴합니다.|\n",
    "|re.sub()|문자열에서 정규 표현식과 일치하는 부분에 대해서 다른 문자열로 대체합니다.|"
   ]
  },
  {
   "cell_type": "code",
   "execution_count": 1,
   "metadata": {},
   "outputs": [],
   "source": [
    "#실습은 생략"
   ]
  },
  {
   "cell_type": "code",
   "execution_count": 6,
   "metadata": {},
   "outputs": [
    {
     "name": "stdout",
     "output_type": "stream",
     "text": [
      "['Don', 't', 'be', 'fooled', 'by', 'the', 'dark', 'sounding', 'name', 'Mr', 'Jone', 's', 'Orphanage', 'is', 'as', 'cheery', 'as', 'cheery', 'goes', 'for', 'a', 'pastry', 'shop']\n"
     ]
    }
   ],
   "source": [
    "# 정규 표현식을 이용한 토큰화\n",
    "# \\+는 문자 또는 숫자가 1개 이상인 경우를 인식하는 코드\n",
    "# 문장에서 구두점을 제외하고, 단어들만을 가지고 토큰화를 수행\n",
    "import nltk\n",
    "from nltk.tokenize import RegexpTokenizer\n",
    "tokenizer=RegexpTokenizer(\"[\\w]+\")\n",
    "print(tokenizer.tokenize(\"Don't be fooled by the dark sounding name, Mr. Jone's Orphanage is as cheery as cheery goes for a pastry shop\"))"
   ]
  },
  {
   "cell_type": "code",
   "execution_count": 8,
   "metadata": {},
   "outputs": [
    {
     "name": "stdout",
     "output_type": "stream",
     "text": [
      "[\"Don't\", 'be', 'fooled', 'by', 'the', 'dark', 'sounding', 'name,', 'Mr.', \"Jone's\", 'Orphanage', 'is', 'as', 'cheery', 'as', 'cheery', 'goes', 'for', 'a', 'pastry', 'shop']\n"
     ]
    }
   ],
   "source": [
    "# gaps=true는 해당 정규 표현식을 토큰으로 나누기 위한 기준으로 사용한다는 의미\n",
    "# gaps=True라는 부분을 기재하지 않는다면, 토큰화의 결과는 공백들만 나오게 됩니다. \n",
    "# 이번에는 위의 예제와는 달리 아포스트로피나 온점을 제외하지 않고, 토큰화가 수행된 것을 확인\n",
    "import nltk\n",
    "from nltk.tokenize import RegexpTokenizer\n",
    "tokenizer=RegexpTokenizer(\"[\\s]+\", gaps=True)\n",
    "print(tokenizer.tokenize(\"Don't be fooled by the dark sounding name, Mr. Jone's Orphanage is as cheery as cheery goes for a pastry shop\"))"
   ]
  },
  {
   "cell_type": "code",
   "execution_count": null,
   "metadata": {},
   "outputs": [],
   "source": []
  }
 ],
 "metadata": {
  "kernelspec": {
   "display_name": "Python 3",
   "language": "python",
   "name": "python3"
  },
  "language_info": {
   "codemirror_mode": {
    "name": "ipython",
    "version": 3
   },
   "file_extension": ".py",
   "mimetype": "text/x-python",
   "name": "python",
   "nbconvert_exporter": "python",
   "pygments_lexer": "ipython3",
   "version": "3.8.5"
  }
 },
 "nbformat": 4,
 "nbformat_minor": 4
}
