{
 "cells": [
  {
   "attachments": {
    "1.PNG": {
     "image/png": "[encoded data removed]"
    }
   },
   "cell_type": "markdown",
   "metadata": {},
   "source": [
    "펄플렉서티 (Perplexity)\n",
    "===\n",
    "* 모델 내에서 자신의 성능을 수치화하여 결과를 내놓는 내부 평가에 해당되는 펄플렉서티(Perplexity)이다.\n",
    "\n",
    "1. 언어 모델의 평가 방법 (Evaluation metric) : PPL\n",
    "---\n",
    "* 펄플렉서티는 언어 모델을 평가하기 위한 내부 평가 지표이다.\n",
    "* PPL이라고 줄여서 표현하는데 그냥 '헷갈리는 정도'라고 이해하면 된다.\n",
    "* PPL은 수치가 높으면 좋은 성능을 의미하는 것이 아니라, '낮을수록' 언어 모델의 성능이 좋다는 것을 의미한다.\n",
    "* PPL은 단어의 수로 정규화된 테스트 데이터에 대한 확률의 역수. PPL을 최소화한다는 것은 문장의 확률을 최대화하는 것과 같다. 문장 W의 길이가 N이라고 했을 때의 PPL은 다음과 같다.\n",
    "![1.PNG](attachment:1.PNG)\n",
    "* 문장의 확률에 체인룰을 적용하면 다음과 같다.\n",
    "![2.PNG](attachment:2.PNG)\n",
    "* 여기에 n-gram을 적용해볼수 있다. 예를들어 bigram언어모델의 경우 다음과 같다.\n",
    "![3.PNG](attachment:3.PNG)\n",
    "\n",
    "2. 분기 계수 (Branching factor)\n",
    "---\n",
    "* PPL은 선택할 수 있는 가능한 경우의 수를 의미하는 분기계수이다.\n",
    "* PPL은 이 언어 모델이 특정 시점에서 평균적으로 몇 개의 선택지를 가지고 고민하지는지를 의미한다.\n",
    "* 평가 방법에 있어서 주의할 점은 PPL의 값이 낮다는 것은 테스트 데이터 상에서 높은 정확도를 보인다는 것이지, 사람이 직접 느끼기에 좋은 언어 모델이라는 것을 반드시 의미하진 않는다는 점이다. \n",
    "* 언어 모델의 PPL은 테스트 데이터에 의존하므로 두 개 이상의 언어 모델을 비교할 때는 정량적으로 양이 많고, 또한 도메인에 알맞은 동일한 테스트 데이터를 사용해야 신뢰도가 높다는 것입니다\n",
    "\n",
    "3. 기존 언어 모델 vs 인공 신경망을 이용한 언어 모델\n",
    "---\n",
    "* PPL의 실제 사용 사례가 있다. 페이스북 AI에서 딥러닝을 이용한 언어모델에 대해서 PPL로 성능 테스트를 한 표를 공개했다.\n",
    "* https://research.fb.com/building-an-efficient-neural-language-model-over-a-billion-words/\n",
    "* 위의 링크를 확인해보면 n-gram을 이용한 언어 모델보다 RNN, LSTM 등 인공신경망을 이용한 언어 모델이 더 좋은 성능 평가를 받았음을 확인할 수 있다.\n"
   ]
  },
  {
   "cell_type": "code",
   "execution_count": null,
   "metadata": {},
   "outputs": [],
   "source": []
  }
 ],
 "metadata": {
  "kernelspec": {
   "display_name": "Python 3",
   "language": "python",
   "name": "python3"
  },
  "language_info": {
   "codemirror_mode": {
    "name": "ipython",
    "version": 3
   },
   "file_extension": ".py",
   "mimetype": "text/x-python",
   "name": "python",
   "nbconvert_exporter": "python",
   "pygments_lexer": "ipython3",
   "version": "3.8.5"
  }
 },
 "nbformat": 4,
 "nbformat_minor": 4
}
